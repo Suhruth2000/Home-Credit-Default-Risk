{
 "cells": [
  {
   "cell_type": "code",
   "execution_count": 1,
   "metadata": {
    "_cell_guid": "b1076dfc-b9ad-4769-8c92-a6c4dae69d19",
    "_uuid": "8f2839f25d086af736a60e9eeb907d3b93b6e0e5",
    "execution": {
     "iopub.execute_input": "2020-12-20T17:04:21.221742Z",
     "iopub.status.busy": "2020-12-20T17:04:21.220902Z",
     "iopub.status.idle": "2020-12-20T17:04:23.394618Z",
     "shell.execute_reply": "2020-12-20T17:04:23.393783Z"
    },
    "papermill": {
     "duration": 2.220406,
     "end_time": "2020-12-20T17:04:23.394749",
     "exception": false,
     "start_time": "2020-12-20T17:04:21.174343",
     "status": "completed"
    },
    "tags": []
   },
   "outputs": [
    {
     "data": {
      "text/html": [
       "<style type='text/css'>\n",
       ".datatable table.frame { margin-bottom: 0; }\n",
       ".datatable table.frame thead { border-bottom: none; }\n",
       ".datatable table.frame tr.coltypes td {  color: #FFFFFF;  line-height: 6px;  padding: 0 0.5em;}\n",
       ".datatable .bool    { background: #DDDD99; }\n",
       ".datatable .object  { background: #565656; }\n",
       ".datatable .int     { background: #5D9E5D; }\n",
       ".datatable .float   { background: #4040CC; }\n",
       ".datatable .str     { background: #CC4040; }\n",
       ".datatable .row_index {  background: var(--jp-border-color3);  border-right: 1px solid var(--jp-border-color0);  color: var(--jp-ui-font-color3);  font-size: 9px;}\n",
       ".datatable .frame tr.coltypes .row_index {  background: var(--jp-border-color0);}\n",
       ".datatable th:nth-child(2) { padding-left: 12px; }\n",
       ".datatable .hellipsis {  color: var(--jp-cell-editor-border-color);}\n",
       ".datatable .vellipsis {  background: var(--jp-layout-color0);  color: var(--jp-cell-editor-border-color);}\n",
       ".datatable .na {  color: var(--jp-cell-editor-border-color);  font-size: 80%;}\n",
       ".datatable .footer { font-size: 9px; }\n",
       ".datatable .frame_dimensions {  background: var(--jp-border-color3);  border-top: 1px solid var(--jp-border-color0);  color: var(--jp-ui-font-color3);  display: inline-block;  opacity: 0.6;  padding: 1px 10px 1px 5px;}\n",
       ".datatable .frame thead tr.colnames {  background-image: url('data:image/png;base64,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');  background-repeat: repeat-x;  background-size: 14px;  height: 28px;}\n",
       "</style>\n"
      ],
      "text/plain": [
       "<IPython.core.display.HTML object>"
      ]
     },
     "metadata": {},
     "output_type": "display_data"
    }
   ],
   "source": [
    "import numpy as np \n",
    "import pandas as pd\n",
    "import seaborn as sns\n",
    "import matplotlib.pyplot as plt\n",
    "import matplotlib.mlab as mlab\n",
    "%matplotlib inline\n",
    "from sklearn.preprocessing import LabelEncoder\n",
    "from sklearn import preprocessing\n",
    "from sklearn.metrics import accuracy_score\n",
    "from sklearn.metrics import roc_auc_score\n",
    "import lightgbm as lgb\n",
    "from sklearn.manifold import TSNE\n",
    "import gc\n",
    "from optuna.integration.lightgbm import LightGBMTunerCV\n",
    "from sklearn.model_selection import KFold"
   ]
  },
  {
   "cell_type": "code",
   "execution_count": 2,
   "metadata": {
    "_cell_guid": "79c7e3d0-c299-4dcb-8224-4455121ee9b0",
    "_uuid": "d629ff2d2480ee46fbb7e2d37f6b5fab8052498a",
    "execution": {
     "iopub.execute_input": "2020-12-20T17:04:23.503831Z",
     "iopub.status.busy": "2020-12-20T17:04:23.476636Z",
     "iopub.status.idle": "2020-12-20T17:04:23.520978Z",
     "shell.execute_reply": "2020-12-20T17:04:23.520263Z"
    },
    "papermill": {
     "duration": 0.092269,
     "end_time": "2020-12-20T17:04:23.521104",
     "exception": false,
     "start_time": "2020-12-20T17:04:23.428835",
     "status": "completed"
    },
    "tags": []
   },
   "outputs": [],
   "source": [
    "def imputation(df):\n",
    "    for col in df:\n",
    "        if(df[col].dtype=='object'):\n",
    "            df[col].replace(np.nan,df[col].mode().iloc[0],inplace=True)\n",
    "        else:\n",
    "            df[col].replace(np.nan,df[col].mean(),inplace=True)\n",
    "    print(\"Imputaion Done\")\n",
    "    return df\n",
    "\n",
    "def label_encoder(df): #based on https://www.geeksforgeeks.org/ml-one-hot-encoding-of-datasets-in-python/?ref=rp\n",
    "    le = LabelEncoder()\n",
    "    le_count = 0\n",
    "    for col in df: \n",
    "        if df[col].dtype == 'object':\n",
    "            df[col] = df[col].astype(str)\n",
    "            #if len(list(df[col].unique())) <= 2:   #uncomment this line to encode columns with total unique values less than 3\n",
    "            le.fit(df[col])\n",
    "            df[col] = le.transform(df[col])\n",
    "            le_count += 1\n",
    "    print('%d columns were label encoded.' % le_count)\n",
    "\n",
    "def Remove_anomaly(name,lst,typ):\n",
    "    for var in lst:\n",
    "        temp_data = name[var]\n",
    "        count = 0\n",
    "        count1 = 0\n",
    "        for val in temp_data:\n",
    "            if typ == 1:\n",
    "                if val<0:\n",
    "                    count +=1\n",
    "                    name.at[count1,var] = np.nan\n",
    "            else:\n",
    "                if val>0:\n",
    "                    count +=1\n",
    "                    name.at[count1,var] = np.nan\n",
    "            count1+=1\n",
    "        print('Total anomalies ='+str(count))   \n",
    "        #Plot_hist(temp_data,var)\n",
    "        return\n",
    "\n",
    "def clean_features(d_file,no_unique= 0,percentage= 100):\n",
    "    cat_cols = []\n",
    "    int_cols = []\n",
    "    \n",
    "    ln = len(d_file.columns)\n",
    "    #no_unique, number of unique values\n",
    "    #percentage, max percentage the no_unique can take\n",
    "    \n",
    "    for col in d_file:\n",
    "        k = (d_file[col].value_counts()/d_file[col].count())*100\n",
    "        if sum(list(k.head(no_unique)))<percentage:\n",
    "            if d_file[col].dtypes == \"object\":\n",
    "                cat_cols.append(col)\n",
    "            else: int_cols.append(col)\n",
    "                \n",
    "    #removing all features execpt the ones that have passed the above test\n",
    "    d_file = d_file.drop(train_file.columns.difference(cat_cols+int_cols),1)\n",
    "    \n",
    "    print(ln-len(d_file.columns),\"Features dropped\")\n",
    "    \n",
    "\n",
    "def treat_iqr(d_file):\n",
    "    count = 0\n",
    "    for col in d_file:\n",
    "        if col != 'TARGET':\n",
    "            skew_prev = d_file[col].skew()\n",
    "    \n",
    "            Q1 = d_file[col].quantile(0.25)\n",
    "            Q2 = d_file[col].quantile(0.75)\n",
    "            IQR = Q2-Q1\n",
    "        \n",
    "            Q3 = Q2-3*IQR\n",
    "            Q4 = Q3+3*IQR\n",
    "        \n",
    "            d_file[col] = np.where(d_file[col]<Q3,Q3,d_file[col])\n",
    "            d_file[col] = np.where(d_file[col]>Q4,Q4,d_file[col])\n",
    "        \n",
    "            skew_after = d_file[col].skew()\n",
    "        \n",
    "            if (skew_prev != skew_after):\n",
    "                count += 1\n",
    "            \n",
    "            print(col,\"Skew_prev:\",skew_prev,\"Skew_after:\",skew_after)\n",
    "    \n",
    "    print(\"Outliers changed in:\",count,\"columns\")\n",
    "\n",
    "def reduce_memory(df):\n",
    "    \"\"\"Reduce memory usage of a dataframe by setting data types. \"\"\"\n",
    "    start_mem = df.memory_usage().sum() / 1024 ** 2\n",
    "    print('Initial df memory usage is {:.2f} MB for {} columns'\n",
    "          .format(start_mem, len(df.columns)))\n",
    "\n",
    "    for col in df.columns:\n",
    "        col_type = df[col].dtypes\n",
    "        if col_type != object:\n",
    "            cmin = df[col].min()\n",
    "            cmax = df[col].max()\n",
    "            if str(col_type)[:3] == 'int':\n",
    "                # Can use unsigned int here too\n",
    "                if cmin > np.iinfo(np.int8).min and cmax < np.iinfo(np.int8).max:\n",
    "                    df[col] = df[col].astype(np.int8)\n",
    "                elif cmin > np.iinfo(np.int16).min and cmax < np.iinfo(np.int16).max:\n",
    "                    df[col] = df[col].astype(np.int16)\n",
    "                elif cmin > np.iinfo(np.int32).min and cmax < np.iinfo(np.int32).max:\n",
    "                    df[col] = df[col].astype(np.int32)\n",
    "                elif cmin > np.iinfo(np.int64).min and cmax < np.iinfo(np.int64).max:\n",
    "                    df[col] = df[col].astype(np.int64)\n",
    "            else:\n",
    "                if cmin > np.finfo(np.float16).min and cmax < np.finfo(np.float16).max:\n",
    "                    df[col] = df[col].astype(np.float16)\n",
    "                elif cmin > np.finfo(np.float32).min and cmax < np.finfo(np.float32).max:\n",
    "                    df[col] = df[col].astype(np.float32)\n",
    "                else:\n",
    "                    df[col] = df[col].astype(np.float64)\n",
    "    end_mem = df.memory_usage().sum() / 1024 ** 2\n",
    "    memory_reduction = 100 * (start_mem - end_mem) / start_mem\n",
    "    print('Final memory usage is: {:.2f} MB - decreased by {:.1f}%'.format(end_mem, memory_reduction))\n",
    "    return df\n",
    "\n",
    "def one_hot_encoder(df, categorical_columns=None, nan_as_category=True):\n",
    "    \"\"\"Create a new column for each categorical value in categorical columns. \"\"\"\n",
    "    original_columns = list(df.columns)\n",
    "    if not categorical_columns:\n",
    "        categorical_columns = [col for col in df.columns if df[col].dtype == 'object' and \"SK_ID\" not in col]\n",
    "    original_columns = [col for col in original_columns if col not in categorical_columns]\n",
    "    df = pd.get_dummies(df, columns=categorical_columns, dummy_na=nan_as_category)\n",
    "    categorical_columns = [c for c in df.columns if c not in original_columns]\n",
    "    return df, categorical_columns, original_columns"
   ]
  },
  {
   "cell_type": "code",
   "execution_count": 3,
   "metadata": {
    "execution": {
     "iopub.execute_input": "2020-12-20T17:04:23.601144Z",
     "iopub.status.busy": "2020-12-20T17:04:23.600383Z",
     "iopub.status.idle": "2020-12-20T17:06:48.121555Z",
     "shell.execute_reply": "2020-12-20T17:06:48.122472Z"
    },
    "papermill": {
     "duration": 144.567984,
     "end_time": "2020-12-20T17:06:48.122714",
     "exception": false,
     "start_time": "2020-12-20T17:04:23.554730",
     "status": "completed"
    },
    "tags": []
   },
   "outputs": [
    {
     "name": "stdout",
     "output_type": "stream",
     "text": [
      "Train_file Imported\n",
      "Test_file Imported\n",
      "Previous Application Imported\n",
      "Bureau Balance Imported\n",
      "POS Cash Balance Imported\n",
      "Bureau Imported\n",
      "Credit Card Balance Imported\n",
      "Installment Payments Imported\n",
      "Import Done\n"
     ]
    }
   ],
   "source": [
    "train_file = pd.read_csv('../input/iiitb2020-home-credit-default-risk/application_train.csv',sep = ',', low_memory = False)\n",
    "print(\"Train_file Imported\")\n",
    "test_file = pd.read_csv('../input/iiitb2020-home-credit-default-risk/application_test.csv',sep = ',', low_memory = False)\n",
    "print(\"Test_file Imported\")\n",
    "prev_app = pd.read_csv('../input/iiitb2020-home-credit-default-risk/previous_application.csv', sep = ',', low_memory = False)\n",
    "print(\"Previous Application Imported\")\n",
    "bureau_bal = pd.read_csv('../input/iiitb2020-home-credit-default-risk/bureau_balance.csv',sep=',', low_memory = False)\n",
    "print(\"Bureau Balance Imported\")\n",
    "pos_cash = pd.read_csv('../input/iiitb2020-home-credit-default-risk/POS_CASH_balance.csv',sep = ',', low_memory = False)\n",
    "print(\"POS Cash Balance Imported\")\n",
    "bureau = pd.read_csv('../input/iiitb2020-home-credit-default-risk/bureau.csv', sep = ',', low_memory = False)\n",
    "print(\"Bureau Imported\")\n",
    "credit_card_bal = pd.read_csv('../input/iiitb2020-home-credit-default-risk/credit_card_balance.csv', sep=',', low_memory = False)\n",
    "print(\"Credit Card Balance Imported\")\n",
    "installment_pay = pd.read_csv('../input/iiitb2020-home-credit-default-risk/installments_payments.csv',sep=',', low_memory = False)\n",
    "print(\"Installment Payments Imported\")\n",
    "print(\"Import Done\")"
   ]
  },
  {
   "cell_type": "code",
   "execution_count": 4,
   "metadata": {
    "execution": {
     "iopub.execute_input": "2020-12-20T17:06:48.217650Z",
     "iopub.status.busy": "2020-12-20T17:06:48.216821Z",
     "iopub.status.idle": "2020-12-20T17:06:49.001111Z",
     "shell.execute_reply": "2020-12-20T17:06:49.000455Z"
    },
    "papermill": {
     "duration": 0.840605,
     "end_time": "2020-12-20T17:06:49.001236",
     "exception": false,
     "start_time": "2020-12-20T17:06:48.160631",
     "status": "completed"
    },
    "tags": []
   },
   "outputs": [
    {
     "name": "stdout",
     "output_type": "stream",
     "text": [
      "Total anomalies =35869\n"
     ]
    }
   ],
   "source": [
    "train_file.DAYS_EMPLOYED = train_file.DAYS_EMPLOYED.astype(float)\n",
    "Remove_anomaly(train_file,[\"DAYS_EMPLOYED\"],2)\n",
    "\n",
    "cols = [\"DAYS_BIRTH\",\"DAYS_EMPLOYED\",\"DAYS_REGISTRATION\",\"DAYS_ID_PUBLISH\"]\n",
    "for i in cols:\n",
    "    train_file[i] = train_file[i]/(-365.25)\n",
    "    \n",
    "# Credit ratios\n",
    "train_file['CREDIT_TO_ANNUITY_RATIO'] = train_file['AMT_CREDIT'] / train_file['AMT_ANNUITY']\n",
    "train_file['CREDIT_TO_GOODS_RATIO'] = train_file['AMT_CREDIT'] / train_file['AMT_GOODS_PRICE']\n",
    "\n",
    "# Income ratios\n",
    "train_file['ANNUITY_TO_INCOME_RATIO'] = train_file['AMT_ANNUITY'] / train_file['AMT_INCOME_TOTAL']\n",
    "train_file['CREDIT_TO_INCOME_RATIO'] = train_file['AMT_CREDIT'] / train_file['AMT_INCOME_TOTAL']\n",
    "train_file['INCOME_TO_EMPLOYED_RATIO'] = train_file['AMT_INCOME_TOTAL'] / train_file['DAYS_EMPLOYED']\n",
    "train_file['INCOME_TO_BIRTH_RATIO'] = train_file['AMT_INCOME_TOTAL'] / train_file['DAYS_BIRTH']\n",
    "\n",
    "# Time ratios\n",
    "train_file['EMPLOYED_TO_BIRTH_RATIO'] = train_file['DAYS_EMPLOYED'] / train_file['DAYS_BIRTH']\n",
    "train_file['ID_TO_BIRTH_RATIO'] = train_file['DAYS_ID_PUBLISH'] / train_file['DAYS_BIRTH']\n",
    "train_file['CAR_TO_BIRTH_RATIO'] = train_file['OWN_CAR_AGE'] / train_file['DAYS_BIRTH']\n",
    "train_file['CAR_TO_EMPLOYED_RATIO'] = train_file['OWN_CAR_AGE'] / train_file['DAYS_EMPLOYED']\n",
    "train_file['PHONE_TO_BIRTH_RATIO'] = train_file['DAYS_LAST_PHONE_CHANGE'] / train_file['DAYS_BIRTH']"
   ]
  },
  {
   "cell_type": "code",
   "execution_count": 5,
   "metadata": {
    "execution": {
     "iopub.execute_input": "2020-12-20T17:06:49.088812Z",
     "iopub.status.busy": "2020-12-20T17:06:49.084125Z",
     "iopub.status.idle": "2020-12-20T17:06:49.521840Z",
     "shell.execute_reply": "2020-12-20T17:06:49.520848Z"
    },
    "papermill": {
     "duration": 0.483573,
     "end_time": "2020-12-20T17:06:49.521992",
     "exception": false,
     "start_time": "2020-12-20T17:06:49.038419",
     "status": "completed"
    },
    "tags": []
   },
   "outputs": [
    {
     "name": "stdout",
     "output_type": "stream",
     "text": [
      "Total anomalies =19505\n"
     ]
    }
   ],
   "source": [
    "test_file.DAYS_EMPLOYED = test_file.DAYS_EMPLOYED.astype(float)\n",
    "Remove_anomaly(test_file,[\"DAYS_EMPLOYED\"],2)\n",
    "\n",
    "cols = [\"DAYS_BIRTH\",\"DAYS_EMPLOYED\",\"DAYS_REGISTRATION\",\"DAYS_ID_PUBLISH\"]\n",
    "for i in cols:\n",
    "    test_file[i] = test_file[i]/(-365.25)\n",
    "    \n",
    "# Credit ratios\n",
    "test_file['CREDIT_TO_ANNUITY_RATIO'] = test_file['AMT_CREDIT'] / test_file['AMT_ANNUITY']\n",
    "test_file['CREDIT_TO_GOODS_RATIO'] = test_file['AMT_CREDIT'] / test_file['AMT_GOODS_PRICE']\n",
    "\n",
    "# Income ratios\n",
    "test_file['ANNUITY_TO_INCOME_RATIO'] = test_file['AMT_ANNUITY'] / test_file['AMT_INCOME_TOTAL']\n",
    "test_file['CREDIT_TO_INCOME_RATIO'] = test_file['AMT_CREDIT'] / test_file['AMT_INCOME_TOTAL']\n",
    "test_file['INCOME_TO_EMPLOYED_RATIO'] = test_file['AMT_INCOME_TOTAL'] / test_file['DAYS_EMPLOYED']\n",
    "test_file['INCOME_TO_BIRTH_RATIO'] = test_file['AMT_INCOME_TOTAL'] / test_file['DAYS_BIRTH']\n",
    "\n",
    "# Time ratios\n",
    "test_file['EMPLOYED_TO_BIRTH_RATIO'] = test_file['DAYS_EMPLOYED'] / test_file['DAYS_BIRTH']\n",
    "test_file['ID_TO_BIRTH_RATIO'] = test_file['DAYS_ID_PUBLISH'] / test_file['DAYS_BIRTH']\n",
    "test_file['CAR_TO_BIRTH_RATIO'] = test_file['OWN_CAR_AGE'] / test_file['DAYS_BIRTH']\n",
    "test_file['CAR_TO_EMPLOYED_RATIO'] = test_file['OWN_CAR_AGE'] / test_file['DAYS_EMPLOYED']\n",
    "test_file['PHONE_TO_BIRTH_RATIO'] = test_file['DAYS_LAST_PHONE_CHANGE'] / test_file['DAYS_BIRTH']"
   ]
  },
  {
   "cell_type": "code",
   "execution_count": 6,
   "metadata": {
    "execution": {
     "iopub.execute_input": "2020-12-20T17:06:49.611269Z",
     "iopub.status.busy": "2020-12-20T17:06:49.610489Z",
     "iopub.status.idle": "2020-12-20T17:06:49.704979Z",
     "shell.execute_reply": "2020-12-20T17:06:49.704191Z"
    },
    "papermill": {
     "duration": 0.145324,
     "end_time": "2020-12-20T17:06:49.705105",
     "exception": false,
     "start_time": "2020-12-20T17:06:49.559781",
     "status": "completed"
    },
    "tags": []
   },
   "outputs": [],
   "source": [
    "cols = [\"DAYS_DECISION\",\"DAYS_FIRST_DRAWING\",\"DAYS_FIRST_DUE\",\"DAYS_LAST_DUE_1ST_VERSION\",\"DAYS_LAST_DUE\",\"DAYS_TERMINATION\"]\n",
    "for i in cols:\n",
    "    prev_app[i] = prev_app[i]/(-365.25)\n",
    "\n",
    "prev_app['APPLICATION_CREDIT_DIFF'] = prev_app['AMT_APPLICATION'] - prev_app['AMT_CREDIT']\n",
    "prev_app['APPLICATION_CREDIT_RATIO'] = prev_app['AMT_APPLICATION'] / prev_app['AMT_CREDIT']\n",
    "prev_app['CREDIT_TO_ANNUITY_RATIO'] = prev_app['AMT_CREDIT'] / prev_app['AMT_ANNUITY']\n",
    "prev_app['DOWN_PAYMENT_TO_CREDIT'] = prev_app['AMT_DOWN_PAYMENT'] / prev_app['AMT_CREDIT']"
   ]
  },
  {
   "cell_type": "code",
   "execution_count": 7,
   "metadata": {
    "execution": {
     "iopub.execute_input": "2020-12-20T17:06:49.801580Z",
     "iopub.status.busy": "2020-12-20T17:06:49.800383Z",
     "iopub.status.idle": "2020-12-20T17:06:57.540674Z",
     "shell.execute_reply": "2020-12-20T17:06:57.540023Z"
    },
    "papermill": {
     "duration": 7.797851,
     "end_time": "2020-12-20T17:06:57.540797",
     "exception": false,
     "start_time": "2020-12-20T17:06:49.742946",
     "status": "completed"
    },
    "tags": []
   },
   "outputs": [],
   "source": [
    "cols = [\"MONTHS_BALANCE\"]\n",
    "for i in cols:\n",
    "    pos_cash[i] = pos_cash[i]/(-365.25)\n",
    "\n",
    "pos_cash['LATE_PAYMENT'] = pos_cash['SK_DPD'].apply(lambda x: 1 if x > 0 else 0)"
   ]
  },
  {
   "cell_type": "code",
   "execution_count": 8,
   "metadata": {
    "execution": {
     "iopub.execute_input": "2020-12-20T17:06:57.629046Z",
     "iopub.status.busy": "2020-12-20T17:06:57.628250Z",
     "iopub.status.idle": "2020-12-20T17:06:57.701105Z",
     "shell.execute_reply": "2020-12-20T17:06:57.700449Z"
    },
    "papermill": {
     "duration": 0.122365,
     "end_time": "2020-12-20T17:06:57.701243",
     "exception": false,
     "start_time": "2020-12-20T17:06:57.578878",
     "status": "completed"
    },
    "tags": []
   },
   "outputs": [],
   "source": [
    "cols = [\"DAYS_CREDIT\",\"DAYS_ENDDATE_FACT\"]\n",
    "for i in cols:\n",
    "    bureau[i] = bureau[i]/(-365.25)\n",
    "    \n",
    "bureau['CREDIT_DURATION'] = bureau['DAYS_CREDIT'] - bureau['DAYS_CREDIT_ENDDATE']\n",
    "bureau['ENDDATE_DIF'] = bureau['DAYS_ENDDATE_FACT'] - bureau['DAYS_CREDIT_ENDDATE']\n",
    "\n",
    "bureau['DEBT_PERCENTAGE'] = bureau['AMT_CREDIT_SUM'] / bureau['AMT_CREDIT_SUM_DEBT']\n",
    "bureau['DEBT_CREDIT_DIFF'] = bureau['AMT_CREDIT_SUM'] - bureau['AMT_CREDIT_SUM_DEBT']\n",
    "bureau['CREDIT_TO_ANNUITY_RATIO'] = bureau['AMT_CREDIT_SUM'] / bureau['AMT_ANNUITY']"
   ]
  },
  {
   "cell_type": "code",
   "execution_count": 9,
   "metadata": {
    "execution": {
     "iopub.execute_input": "2020-12-20T17:06:57.786210Z",
     "iopub.status.busy": "2020-12-20T17:06:57.784855Z",
     "iopub.status.idle": "2020-12-20T17:06:57.915661Z",
     "shell.execute_reply": "2020-12-20T17:06:57.914913Z"
    },
    "papermill": {
     "duration": 0.175676,
     "end_time": "2020-12-20T17:06:57.915783",
     "exception": false,
     "start_time": "2020-12-20T17:06:57.740107",
     "status": "completed"
    },
    "tags": []
   },
   "outputs": [],
   "source": [
    "cols = [\"MONTHS_BALANCE\"]\n",
    "for i in cols:\n",
    "    bureau_bal[i] = bureau_bal[i]/(-365.25)"
   ]
  },
  {
   "cell_type": "code",
   "execution_count": 10,
   "metadata": {
    "execution": {
     "iopub.execute_input": "2020-12-20T17:06:58.014729Z",
     "iopub.status.busy": "2020-12-20T17:06:58.013017Z",
     "iopub.status.idle": "2020-12-20T17:07:02.603927Z",
     "shell.execute_reply": "2020-12-20T17:07:02.603275Z"
    },
    "papermill": {
     "duration": 4.649654,
     "end_time": "2020-12-20T17:07:02.604065",
     "exception": false,
     "start_time": "2020-12-20T17:06:57.954411",
     "status": "completed"
    },
    "tags": []
   },
   "outputs": [
    {
     "name": "stdout",
     "output_type": "stream",
     "text": [
      "Total anomalies =2345\n"
     ]
    }
   ],
   "source": [
    "cols = [\"MONTHS_BALANCE\"]\n",
    "for i in cols:\n",
    "    credit_card_bal[i] = credit_card_bal[i]/(-365.25)\n",
    "    \n",
    "list1 = [\"AMT_BALANCE\",\"AMT_DRAWINGS_ATM_CURRENT\",\"AMT_DRAWINGS_CURRENT\", \"AMT_RECEIVABLE_PRINCIPAL\", \"AMT_RECIVABLE\",\"AMT_TOTAL_RECEIVABLE\"]\n",
    "Remove_anomaly(credit_card_bal,list1,1)   \n",
    "\n",
    "credit_card_bal['LIMIT_USE'] = credit_card_bal['AMT_BALANCE'] / credit_card_bal['AMT_CREDIT_LIMIT_ACTUAL']\n",
    "credit_card_bal['PAYMENT_DIV_MIN'] = credit_card_bal['AMT_PAYMENT_CURRENT'] / credit_card_bal['AMT_INST_MIN_REGULARITY']\n",
    "credit_card_bal['LATE_PAYMENT'] = credit_card_bal['SK_DPD'].apply(lambda x: 1 if x > 0 else 0)\n"
   ]
  },
  {
   "cell_type": "code",
   "execution_count": 11,
   "metadata": {
    "execution": {
     "iopub.execute_input": "2020-12-20T17:07:02.710966Z",
     "iopub.status.busy": "2020-12-20T17:07:02.709543Z",
     "iopub.status.idle": "2020-12-20T17:11:23.431902Z",
     "shell.execute_reply": "2020-12-20T17:11:23.431169Z"
    },
    "papermill": {
     "duration": 260.788024,
     "end_time": "2020-12-20T17:11:23.432040",
     "exception": false,
     "start_time": "2020-12-20T17:07:02.644016",
     "status": "completed"
    },
    "tags": []
   },
   "outputs": [],
   "source": [
    "cols = [\"DAYS_INSTALMENT\",\"DAYS_ENTRY_PAYMENT\"]\n",
    "for i in cols:\n",
    "    installment_pay[i] = installment_pay[i]/(-365.25)\n",
    "\n",
    "installment_pay['PAID_OVER_AMOUNT'] = installment_pay['AMT_PAYMENT'] - installment_pay['AMT_INSTALMENT']    \n",
    "installment_pay['PAID_OVER'] = (installment_pay['PAID_OVER_AMOUNT'] > 0).astype(int)\n",
    "# Days past due and Days before due\n",
    "installment_pay['DPD'] = installment_pay['DAYS_ENTRY_PAYMENT'] - installment_pay['DAYS_INSTALMENT']\n",
    "installment_pay['DPD'] = installment_pay['DPD'].apply(lambda x: 0 if x <= 0 else x)\n",
    "installment_pay['DBD'] = installment_pay['DAYS_INSTALMENT'] - installment_pay['DAYS_ENTRY_PAYMENT']\n",
    "installment_pay['DBD'] = installment_pay['DBD'].apply(lambda x: 0 if x <= 0 else x)\n",
    "# Flag late installment_payment\n",
    "installment_pay['LATE_PAYMENT'] = installment_pay['DBD'].apply(lambda x: 1 if x > 0 else 0)\n",
    "# Percentage of installment_payments that were late\n",
    "installment_pay['INSTALMENT_PAYMENT_RATIO'] = installment_pay['AMT_PAYMENT'] / installment_pay['AMT_INSTALMENT']\n",
    "installment_pay['LATE_PAYMENT_RATIO'] = installment_pay.apply(lambda x: x['INSTALMENT_PAYMENT_RATIO'] if x['LATE_PAYMENT'] == 1 else 0, axis=1)"
   ]
  },
  {
   "cell_type": "code",
   "execution_count": 12,
   "metadata": {
    "execution": {
     "iopub.execute_input": "2020-12-20T17:11:23.519258Z",
     "iopub.status.busy": "2020-12-20T17:11:23.517724Z",
     "iopub.status.idle": "2020-12-20T17:11:24.204772Z",
     "shell.execute_reply": "2020-12-20T17:11:24.204020Z"
    },
    "papermill": {
     "duration": 0.732869,
     "end_time": "2020-12-20T17:11:24.204919",
     "exception": false,
     "start_time": "2020-12-20T17:11:23.472050",
     "status": "completed"
    },
    "tags": []
   },
   "outputs": [
    {
     "name": "stdout",
     "output_type": "stream",
     "text": [
      "test file merged\n"
     ]
    }
   ],
   "source": [
    "df = train_file.append(test_file)\n",
    "del train_file,test_file\n",
    "gc.collect()\n",
    "print(\"test file merged\")"
   ]
  },
  {
   "cell_type": "markdown",
   "metadata": {
    "papermill": {
     "duration": 0.040011,
     "end_time": "2020-12-20T17:11:24.285759",
     "exception": false,
     "start_time": "2020-12-20T17:11:24.245748",
     "status": "completed"
    },
    "tags": []
   },
   "source": [
    "# Bureau and Bureau Balance\n"
   ]
  },
  {
   "cell_type": "code",
   "execution_count": 13,
   "metadata": {
    "execution": {
     "iopub.execute_input": "2020-12-20T17:11:27.760043Z",
     "iopub.status.busy": "2020-12-20T17:11:25.501251Z",
     "iopub.status.idle": "2020-12-20T17:11:54.578263Z",
     "shell.execute_reply": "2020-12-20T17:11:54.577411Z"
    },
    "papermill": {
     "duration": 30.252298,
     "end_time": "2020-12-20T17:11:54.578397",
     "exception": false,
     "start_time": "2020-12-20T17:11:24.326099",
     "status": "completed"
    },
    "tags": []
   },
   "outputs": [],
   "source": [
    "bb, categorical_cols, original_cols = one_hot_encoder(bureau_bal, nan_as_category= False)\n",
    "bbp = bb.groupby('SK_ID_BUREAU')[categorical_cols+original_cols].mean().reset_index()"
   ]
  },
  {
   "cell_type": "code",
   "execution_count": 14,
   "metadata": {
    "execution": {
     "iopub.execute_input": "2020-12-20T17:11:55.810295Z",
     "iopub.status.busy": "2020-12-20T17:11:55.809217Z",
     "iopub.status.idle": "2020-12-20T17:11:55.813685Z",
     "shell.execute_reply": "2020-12-20T17:11:55.813091Z"
    },
    "papermill": {
     "duration": 1.194326,
     "end_time": "2020-12-20T17:11:55.813816",
     "exception": false,
     "start_time": "2020-12-20T17:11:54.619490",
     "status": "completed"
    },
    "tags": []
   },
   "outputs": [
    {
     "data": {
      "text/plain": [
       "20"
      ]
     },
     "execution_count": 14,
     "metadata": {},
     "output_type": "execute_result"
    }
   ],
   "source": [
    "del bureau_bal,bb\n",
    "gc.collect()"
   ]
  },
  {
   "cell_type": "code",
   "execution_count": 15,
   "metadata": {
    "execution": {
     "iopub.execute_input": "2020-12-20T17:11:55.903823Z",
     "iopub.status.busy": "2020-12-20T17:11:55.902417Z",
     "iopub.status.idle": "2020-12-20T17:12:00.131212Z",
     "shell.execute_reply": "2020-12-20T17:12:00.130406Z"
    },
    "papermill": {
     "duration": 4.277058,
     "end_time": "2020-12-20T17:12:00.131345",
     "exception": false,
     "start_time": "2020-12-20T17:11:55.854287",
     "status": "completed"
    },
    "tags": []
   },
   "outputs": [],
   "source": [
    "bureau, cat_cols, org_cols = one_hot_encoder(bureau, nan_as_category = False)\n",
    "bp = bureau.merge(bbp, how='left', on='SK_ID_BUREAU')"
   ]
  },
  {
   "cell_type": "code",
   "execution_count": 16,
   "metadata": {
    "execution": {
     "iopub.execute_input": "2020-12-20T17:12:00.340179Z",
     "iopub.status.busy": "2020-12-20T17:12:00.247638Z",
     "iopub.status.idle": "2020-12-20T17:12:00.344993Z",
     "shell.execute_reply": "2020-12-20T17:12:00.345536Z"
    },
    "papermill": {
     "duration": 0.172575,
     "end_time": "2020-12-20T17:12:00.345703",
     "exception": false,
     "start_time": "2020-12-20T17:12:00.173128",
     "status": "completed"
    },
    "tags": []
   },
   "outputs": [
    {
     "data": {
      "text/plain": [
       "40"
      ]
     },
     "execution_count": 16,
     "metadata": {},
     "output_type": "execute_result"
    }
   ],
   "source": [
    "del bureau\n",
    "gc.collect()"
   ]
  },
  {
   "cell_type": "code",
   "execution_count": 17,
   "metadata": {
    "execution": {
     "iopub.execute_input": "2020-12-20T17:12:00.438792Z",
     "iopub.status.busy": "2020-12-20T17:12:00.438043Z",
     "iopub.status.idle": "2020-12-20T17:12:30.590810Z",
     "shell.execute_reply": "2020-12-20T17:12:30.590070Z"
    },
    "papermill": {
     "duration": 30.203836,
     "end_time": "2020-12-20T17:12:30.590957",
     "exception": false,
     "start_time": "2020-12-20T17:12:00.387121",
     "status": "completed"
    },
    "tags": []
   },
   "outputs": [],
   "source": [
    "bp = bp.groupby('SK_ID_BUREAU')\n",
    "org_cols.remove(\"SK_ID_BUREAU\")\n",
    "\n",
    "bureau_p = pd.DataFrame()\n",
    "bureau_p[cat_cols+org_cols] = bp[cat_cols+org_cols].first()\n",
    "bureau_p = bureau_p.groupby('SK_ID_CURR').sum().reset_index()"
   ]
  },
  {
   "cell_type": "code",
   "execution_count": 18,
   "metadata": {
    "execution": {
     "iopub.execute_input": "2020-12-20T17:12:30.995329Z",
     "iopub.status.busy": "2020-12-20T17:12:30.741041Z",
     "iopub.status.idle": "2020-12-20T17:12:30.999452Z",
     "shell.execute_reply": "2020-12-20T17:12:31.000004Z"
    },
    "papermill": {
     "duration": 0.367155,
     "end_time": "2020-12-20T17:12:31.000173",
     "exception": false,
     "start_time": "2020-12-20T17:12:30.633018",
     "status": "completed"
    },
    "tags": []
   },
   "outputs": [
    {
     "data": {
      "text/plain": [
       "20"
      ]
     },
     "execution_count": 18,
     "metadata": {},
     "output_type": "execute_result"
    }
   ],
   "source": [
    "del bbp,bp\n",
    "gc.collect()"
   ]
  },
  {
   "cell_type": "markdown",
   "metadata": {
    "papermill": {
     "duration": 0.042105,
     "end_time": "2020-12-20T17:12:31.084295",
     "exception": false,
     "start_time": "2020-12-20T17:12:31.042190",
     "status": "completed"
    },
    "tags": []
   },
   "source": [
    "# POS Cash"
   ]
  },
  {
   "cell_type": "code",
   "execution_count": 19,
   "metadata": {
    "execution": {
     "iopub.execute_input": "2020-12-20T17:12:31.177662Z",
     "iopub.status.busy": "2020-12-20T17:12:31.176880Z",
     "iopub.status.idle": "2020-12-20T17:12:34.853099Z",
     "shell.execute_reply": "2020-12-20T17:12:34.852345Z"
    },
    "papermill": {
     "duration": 3.725937,
     "end_time": "2020-12-20T17:12:34.853220",
     "exception": false,
     "start_time": "2020-12-20T17:12:31.127283",
     "status": "completed"
    },
    "tags": []
   },
   "outputs": [],
   "source": [
    "pos, cat_cols, org_cols = one_hot_encoder(pos_cash)\n",
    "posp = pos.groupby('SK_ID_PREV')\n",
    "org_cols.remove(\"SK_ID_PREV\")"
   ]
  },
  {
   "cell_type": "code",
   "execution_count": 20,
   "metadata": {
    "execution": {
     "iopub.execute_input": "2020-12-20T17:12:34.946808Z",
     "iopub.status.busy": "2020-12-20T17:12:34.946065Z",
     "iopub.status.idle": "2020-12-20T17:12:49.646360Z",
     "shell.execute_reply": "2020-12-20T17:12:49.645527Z"
    },
    "papermill": {
     "duration": 14.750518,
     "end_time": "2020-12-20T17:12:49.646492",
     "exception": false,
     "start_time": "2020-12-20T17:12:34.895974",
     "status": "completed"
    },
    "tags": []
   },
   "outputs": [],
   "source": [
    "pos_p = pd.DataFrame()\n",
    "#pos_p[cat_cols+org_cols] = posp[cat_cols+org_cols].first()\n",
    "pos_p = posp[cat_cols+org_cols].first().groupby('SK_ID_CURR').sum().reset_index()"
   ]
  },
  {
   "cell_type": "code",
   "execution_count": 21,
   "metadata": {
    "execution": {
     "iopub.execute_input": "2020-12-20T17:12:50.518693Z",
     "iopub.status.busy": "2020-12-20T17:12:50.517616Z",
     "iopub.status.idle": "2020-12-20T17:12:50.522739Z",
     "shell.execute_reply": "2020-12-20T17:12:50.523285Z"
    },
    "papermill": {
     "duration": 0.83329,
     "end_time": "2020-12-20T17:12:50.523453",
     "exception": false,
     "start_time": "2020-12-20T17:12:49.690163",
     "status": "completed"
    },
    "tags": []
   },
   "outputs": [
    {
     "data": {
      "text/plain": [
       "60"
      ]
     },
     "execution_count": 21,
     "metadata": {},
     "output_type": "execute_result"
    }
   ],
   "source": [
    "del pos,posp,pos_cash\n",
    "gc.collect()"
   ]
  },
  {
   "cell_type": "markdown",
   "metadata": {
    "papermill": {
     "duration": 0.042992,
     "end_time": "2020-12-20T17:12:50.609868",
     "exception": false,
     "start_time": "2020-12-20T17:12:50.566876",
     "status": "completed"
    },
    "tags": []
   },
   "source": [
    "# Installment Payments"
   ]
  },
  {
   "cell_type": "code",
   "execution_count": 22,
   "metadata": {
    "execution": {
     "iopub.execute_input": "2020-12-20T17:12:50.705562Z",
     "iopub.status.busy": "2020-12-20T17:12:50.704742Z",
     "iopub.status.idle": "2020-12-20T17:12:54.607446Z",
     "shell.execute_reply": "2020-12-20T17:12:54.606658Z"
    },
    "papermill": {
     "duration": 3.953067,
     "end_time": "2020-12-20T17:12:54.607570",
     "exception": false,
     "start_time": "2020-12-20T17:12:50.654503",
     "status": "completed"
    },
    "tags": []
   },
   "outputs": [],
   "source": [
    "inst, cat_cols, org_cols = one_hot_encoder(installment_pay)\n",
    "instp = inst.groupby('SK_ID_PREV')\n",
    "org_cols.remove('SK_ID_PREV')"
   ]
  },
  {
   "cell_type": "code",
   "execution_count": 23,
   "metadata": {
    "execution": {
     "iopub.execute_input": "2020-12-20T17:12:54.704623Z",
     "iopub.status.busy": "2020-12-20T17:12:54.703156Z",
     "iopub.status.idle": "2020-12-20T17:13:13.255911Z",
     "shell.execute_reply": "2020-12-20T17:13:13.254911Z"
    },
    "papermill": {
     "duration": 18.605007,
     "end_time": "2020-12-20T17:13:13.256073",
     "exception": false,
     "start_time": "2020-12-20T17:12:54.651066",
     "status": "completed"
    },
    "tags": []
   },
   "outputs": [],
   "source": [
    "inst_p = pd.DataFrame()\n",
    "#inst_p[cat_cols+org_cols] = instp[cat_cols+org_cols].first()\n",
    "inst_p = instp[cat_cols+org_cols].first().groupby('SK_ID_CURR').sum().reset_index()"
   ]
  },
  {
   "cell_type": "code",
   "execution_count": 24,
   "metadata": {
    "execution": {
     "iopub.execute_input": "2020-12-20T17:13:14.268321Z",
     "iopub.status.busy": "2020-12-20T17:13:14.267220Z",
     "iopub.status.idle": "2020-12-20T17:13:14.271723Z",
     "shell.execute_reply": "2020-12-20T17:13:14.272384Z"
    },
    "papermill": {
     "duration": 0.962962,
     "end_time": "2020-12-20T17:13:14.272544",
     "exception": false,
     "start_time": "2020-12-20T17:13:13.309582",
     "status": "completed"
    },
    "tags": []
   },
   "outputs": [
    {
     "data": {
      "text/plain": [
       "60"
      ]
     },
     "execution_count": 24,
     "metadata": {},
     "output_type": "execute_result"
    }
   ],
   "source": [
    "del inst,instp,installment_pay\n",
    "gc.collect()"
   ]
  },
  {
   "cell_type": "markdown",
   "metadata": {
    "papermill": {
     "duration": 0.045356,
     "end_time": "2020-12-20T17:13:14.364320",
     "exception": false,
     "start_time": "2020-12-20T17:13:14.318964",
     "status": "completed"
    },
    "tags": []
   },
   "source": [
    "# Previous Application"
   ]
  },
  {
   "cell_type": "code",
   "execution_count": 25,
   "metadata": {
    "execution": {
     "iopub.execute_input": "2020-12-20T17:13:14.466432Z",
     "iopub.status.busy": "2020-12-20T17:13:14.464773Z",
     "iopub.status.idle": "2020-12-20T17:13:19.121773Z",
     "shell.execute_reply": "2020-12-20T17:13:19.120975Z"
    },
    "papermill": {
     "duration": 4.712466,
     "end_time": "2020-12-20T17:13:19.121915",
     "exception": false,
     "start_time": "2020-12-20T17:13:14.409449",
     "status": "completed"
    },
    "tags": []
   },
   "outputs": [],
   "source": [
    "prev, cat_cols, org_cols = one_hot_encoder(prev_app)\n",
    "prevp = prev.groupby('SK_ID_PREV')\n",
    "org_cols.remove('SK_ID_PREV')"
   ]
  },
  {
   "cell_type": "code",
   "execution_count": 26,
   "metadata": {
    "execution": {
     "iopub.execute_input": "2020-12-20T17:13:19.221239Z",
     "iopub.status.busy": "2020-12-20T17:13:19.219650Z",
     "iopub.status.idle": "2020-12-20T17:14:07.848993Z",
     "shell.execute_reply": "2020-12-20T17:14:07.848114Z"
    },
    "papermill": {
     "duration": 48.682779,
     "end_time": "2020-12-20T17:14:07.849133",
     "exception": false,
     "start_time": "2020-12-20T17:13:19.166354",
     "status": "completed"
    },
    "tags": []
   },
   "outputs": [],
   "source": [
    "prev_p = pd.DataFrame()\n",
    "#prev_p[cat_cols+org_cols] = prevp[cat_cols+org_cols].first()\n",
    "prev_p = prevp[cat_cols+org_cols].first().groupby('SK_ID_CURR').sum().reset_index()"
   ]
  },
  {
   "cell_type": "code",
   "execution_count": 27,
   "metadata": {
    "execution": {
     "iopub.execute_input": "2020-12-20T17:14:08.309228Z",
     "iopub.status.busy": "2020-12-20T17:14:08.308347Z",
     "iopub.status.idle": "2020-12-20T17:14:08.313267Z",
     "shell.execute_reply": "2020-12-20T17:14:08.312514Z"
    },
    "papermill": {
     "duration": 0.418579,
     "end_time": "2020-12-20T17:14:08.313391",
     "exception": false,
     "start_time": "2020-12-20T17:14:07.894812",
     "status": "completed"
    },
    "tags": []
   },
   "outputs": [
    {
     "data": {
      "text/plain": [
       "40"
      ]
     },
     "execution_count": 27,
     "metadata": {},
     "output_type": "execute_result"
    }
   ],
   "source": [
    "del prev,prevp,prev_app\n",
    "gc.collect()"
   ]
  },
  {
   "cell_type": "markdown",
   "metadata": {
    "papermill": {
     "duration": 0.044815,
     "end_time": "2020-12-20T17:14:08.403415",
     "exception": false,
     "start_time": "2020-12-20T17:14:08.358600",
     "status": "completed"
    },
    "tags": []
   },
   "source": [
    "# Credit Card"
   ]
  },
  {
   "cell_type": "code",
   "execution_count": 28,
   "metadata": {
    "execution": {
     "iopub.execute_input": "2020-12-20T17:14:08.501094Z",
     "iopub.status.busy": "2020-12-20T17:14:08.500289Z",
     "iopub.status.idle": "2020-12-20T17:14:10.250970Z",
     "shell.execute_reply": "2020-12-20T17:14:10.250255Z"
    },
    "papermill": {
     "duration": 1.802641,
     "end_time": "2020-12-20T17:14:10.251098",
     "exception": false,
     "start_time": "2020-12-20T17:14:08.448457",
     "status": "completed"
    },
    "tags": []
   },
   "outputs": [],
   "source": [
    "credit_card, cat_cols, org_cols = one_hot_encoder(credit_card_bal)\n",
    "credit_cardp = credit_card.groupby('SK_ID_PREV')\n",
    "org_cols.remove('SK_ID_PREV')"
   ]
  },
  {
   "cell_type": "code",
   "execution_count": 29,
   "metadata": {
    "execution": {
     "iopub.execute_input": "2020-12-20T17:14:10.349874Z",
     "iopub.status.busy": "2020-12-20T17:14:10.349107Z",
     "iopub.status.idle": "2020-12-20T17:14:14.240216Z",
     "shell.execute_reply": "2020-12-20T17:14:14.239573Z"
    },
    "papermill": {
     "duration": 3.943806,
     "end_time": "2020-12-20T17:14:14.240348",
     "exception": false,
     "start_time": "2020-12-20T17:14:10.296542",
     "status": "completed"
    },
    "tags": []
   },
   "outputs": [],
   "source": [
    "credit_card_p = pd.DataFrame()\n",
    "#credit_card_p[cat_cols+org_cols] = credit_cardp[cat_cols+org_cols].first()\n",
    "credit_card_p = credit_cardp[cat_cols+org_cols].first().groupby('SK_ID_CURR').sum().reset_index()"
   ]
  },
  {
   "cell_type": "code",
   "execution_count": 30,
   "metadata": {
    "execution": {
     "iopub.execute_input": "2020-12-20T17:14:14.546834Z",
     "iopub.status.busy": "2020-12-20T17:14:14.545818Z",
     "iopub.status.idle": "2020-12-20T17:14:14.550117Z",
     "shell.execute_reply": "2020-12-20T17:14:14.550632Z"
    },
    "papermill": {
     "duration": 0.264595,
     "end_time": "2020-12-20T17:14:14.550782",
     "exception": false,
     "start_time": "2020-12-20T17:14:14.286187",
     "status": "completed"
    },
    "tags": []
   },
   "outputs": [
    {
     "data": {
      "text/plain": [
       "60"
      ]
     },
     "execution_count": 30,
     "metadata": {},
     "output_type": "execute_result"
    }
   ],
   "source": [
    "del credit_card,credit_card_bal,credit_cardp\n",
    "gc.collect()"
   ]
  },
  {
   "cell_type": "code",
   "execution_count": 31,
   "metadata": {
    "execution": {
     "iopub.execute_input": "2020-12-20T17:14:14.652046Z",
     "iopub.status.busy": "2020-12-20T17:14:14.651119Z",
     "iopub.status.idle": "2020-12-20T17:14:14.655707Z",
     "shell.execute_reply": "2020-12-20T17:14:14.655131Z"
    },
    "papermill": {
     "duration": 0.056132,
     "end_time": "2020-12-20T17:14:14.655832",
     "exception": false,
     "start_time": "2020-12-20T17:14:14.599700",
     "status": "completed"
    },
    "tags": []
   },
   "outputs": [
    {
     "data": {
      "text/plain": [
       "(307511, 133)"
      ]
     },
     "execution_count": 31,
     "metadata": {},
     "output_type": "execute_result"
    }
   ],
   "source": [
    "df.shape"
   ]
  },
  {
   "cell_type": "code",
   "execution_count": 32,
   "metadata": {
    "execution": {
     "iopub.execute_input": "2020-12-20T17:14:14.763619Z",
     "iopub.status.busy": "2020-12-20T17:14:14.762812Z",
     "iopub.status.idle": "2020-12-20T17:14:20.318085Z",
     "shell.execute_reply": "2020-12-20T17:14:20.317305Z"
    },
    "papermill": {
     "duration": 5.615611,
     "end_time": "2020-12-20T17:14:20.318217",
     "exception": false,
     "start_time": "2020-12-20T17:14:14.702606",
     "status": "completed"
    },
    "tags": []
   },
   "outputs": [
    {
     "name": "stdout",
     "output_type": "stream",
     "text": [
      "Bureau Merged\n",
      "Shape of df (307511, 173)\n",
      "Previous App merged\n",
      "Shape of df (307511, 355)\n",
      "pos_cash merged\n",
      "Shape of df (307511, 371)\n",
      "CC Bal merged\n",
      "Shape of df (307511, 402)\n",
      "Installments merged\n",
      "Shape of df (307511, 415)\n"
     ]
    }
   ],
   "source": [
    "df = pd.merge(df,bureau_p, on='SK_ID_CURR', how='left')\n",
    "del bureau_p\n",
    "gc.collect()\n",
    "#df = reduce_memory(df)\n",
    "print(\"Bureau Merged\")\n",
    "print(\"Shape of df\",df.shape)\n",
    "\n",
    "df = pd.merge(df,prev_p, on='SK_ID_CURR', how='left')\n",
    "del prev_p\n",
    "gc.collect()\n",
    "#df = reduce_memory(df)\n",
    "print(\"Previous App merged\")\n",
    "print(\"Shape of df\",df.shape)\n",
    "\n",
    "df = pd.merge(df,pos_p, on='SK_ID_CURR', how='left')\n",
    "del pos_p\n",
    "gc.collect()\n",
    "#df = reduce_memory(df)\n",
    "print(\"pos_cash merged\")\n",
    "print(\"Shape of df\",df.shape)\n",
    "\n",
    "df = pd.merge(df,credit_card_p, on='SK_ID_CURR', how='left')\n",
    "del credit_card_p\n",
    "gc.collect()\n",
    "#df = reduce_memory(df)\n",
    "print(\"CC Bal merged\")\n",
    "print(\"Shape of df\",df.shape)\n",
    "\n",
    "df = pd.merge(df,inst_p, on='SK_ID_CURR', how='left')\n",
    "del inst_p\n",
    "gc.collect()\n",
    "#df = reduce_memory(df)\n",
    "print(\"Installments merged\")\n",
    "print(\"Shape of df\",df.shape)"
   ]
  },
  {
   "cell_type": "code",
   "execution_count": 33,
   "metadata": {
    "execution": {
     "iopub.execute_input": "2020-12-20T17:14:20.422880Z",
     "iopub.status.busy": "2020-12-20T17:14:20.422093Z",
     "iopub.status.idle": "2020-12-20T17:14:21.531651Z",
     "shell.execute_reply": "2020-12-20T17:14:21.531058Z"
    },
    "papermill": {
     "duration": 1.164727,
     "end_time": "2020-12-20T17:14:21.531778",
     "exception": false,
     "start_time": "2020-12-20T17:14:20.367051",
     "status": "completed"
    },
    "tags": []
   },
   "outputs": [],
   "source": [
    "df = df.drop(\"SK_ID_CURR\",axis=1)"
   ]
  },
  {
   "cell_type": "code",
   "execution_count": 34,
   "metadata": {
    "execution": {
     "iopub.execute_input": "2020-12-20T17:14:22.014512Z",
     "iopub.status.busy": "2020-12-20T17:14:21.651732Z",
     "iopub.status.idle": "2020-12-20T17:14:23.136740Z",
     "shell.execute_reply": "2020-12-20T17:14:23.135962Z"
    },
    "papermill": {
     "duration": 1.556287,
     "end_time": "2020-12-20T17:14:23.136869",
     "exception": false,
     "start_time": "2020-12-20T17:14:21.580582",
     "status": "completed"
    },
    "tags": []
   },
   "outputs": [],
   "source": [
    "DF,cat_cols,org_cols = one_hot_encoder(df)"
   ]
  },
  {
   "cell_type": "code",
   "execution_count": 35,
   "metadata": {
    "execution": {
     "iopub.execute_input": "2020-12-20T17:14:23.243097Z",
     "iopub.status.busy": "2020-12-20T17:14:23.241999Z",
     "iopub.status.idle": "2020-12-20T17:14:23.246517Z",
     "shell.execute_reply": "2020-12-20T17:14:23.245781Z"
    },
    "papermill": {
     "duration": 0.059047,
     "end_time": "2020-12-20T17:14:23.246642",
     "exception": false,
     "start_time": "2020-12-20T17:14:23.187595",
     "status": "completed"
    },
    "tags": []
   },
   "outputs": [
    {
     "data": {
      "text/plain": [
       "(307511, 554)"
      ]
     },
     "execution_count": 35,
     "metadata": {},
     "output_type": "execute_result"
    }
   ],
   "source": [
    "DF.shape"
   ]
  },
  {
   "cell_type": "code",
   "execution_count": 36,
   "metadata": {
    "execution": {
     "iopub.execute_input": "2020-12-20T17:14:23.353984Z",
     "iopub.status.busy": "2020-12-20T17:14:23.353198Z",
     "iopub.status.idle": "2020-12-20T17:14:23.745535Z",
     "shell.execute_reply": "2020-12-20T17:14:23.744827Z"
    },
    "papermill": {
     "duration": 0.44766,
     "end_time": "2020-12-20T17:14:23.745657",
     "exception": false,
     "start_time": "2020-12-20T17:14:23.297997",
     "status": "completed"
    },
    "tags": []
   },
   "outputs": [],
   "source": [
    "DF_1 = DF\n",
    "import re\n",
    "DF_1 = DF_1.rename(columns = lambda x:re.sub('[^A-Za-z0-9_]+', '', x))"
   ]
  },
  {
   "cell_type": "code",
   "execution_count": 37,
   "metadata": {
    "execution": {
     "iopub.execute_input": "2020-12-20T17:14:23.851630Z",
     "iopub.status.busy": "2020-12-20T17:14:23.850864Z",
     "iopub.status.idle": "2020-12-20T17:14:23.975446Z",
     "shell.execute_reply": "2020-12-20T17:14:23.976056Z"
    },
    "papermill": {
     "duration": 0.180446,
     "end_time": "2020-12-20T17:14:23.976215",
     "exception": false,
     "start_time": "2020-12-20T17:14:23.795769",
     "status": "completed"
    },
    "tags": []
   },
   "outputs": [
    {
     "data": {
      "text/html": [
       "<div>\n",
       "<style scoped>\n",
       "    .dataframe tbody tr th:only-of-type {\n",
       "        vertical-align: middle;\n",
       "    }\n",
       "\n",
       "    .dataframe tbody tr th {\n",
       "        vertical-align: top;\n",
       "    }\n",
       "\n",
       "    .dataframe thead th {\n",
       "        text-align: right;\n",
       "    }\n",
       "</style>\n",
       "<table border=\"1\" class=\"dataframe\">\n",
       "  <thead>\n",
       "    <tr style=\"text-align: right;\">\n",
       "      <th></th>\n",
       "      <th>TARGET</th>\n",
       "      <th>CNT_CHILDREN</th>\n",
       "      <th>AMT_INCOME_TOTAL</th>\n",
       "      <th>AMT_CREDIT_x</th>\n",
       "      <th>AMT_ANNUITY_x</th>\n",
       "      <th>AMT_GOODS_PRICE_x</th>\n",
       "      <th>REGION_POPULATION_RELATIVE</th>\n",
       "      <th>DAYS_BIRTH</th>\n",
       "      <th>DAYS_EMPLOYED</th>\n",
       "      <th>DAYS_REGISTRATION</th>\n",
       "      <th>...</th>\n",
       "      <th>WALLSMATERIAL_MODE_Mixed</th>\n",
       "      <th>WALLSMATERIAL_MODE_Monolithic</th>\n",
       "      <th>WALLSMATERIAL_MODE_Others</th>\n",
       "      <th>WALLSMATERIAL_MODE_Panel</th>\n",
       "      <th>WALLSMATERIAL_MODE_Stonebrick</th>\n",
       "      <th>WALLSMATERIAL_MODE_Wooden</th>\n",
       "      <th>WALLSMATERIAL_MODE_nan</th>\n",
       "      <th>EMERGENCYSTATE_MODE_No</th>\n",
       "      <th>EMERGENCYSTATE_MODE_Yes</th>\n",
       "      <th>EMERGENCYSTATE_MODE_nan</th>\n",
       "    </tr>\n",
       "  </thead>\n",
       "  <tbody>\n",
       "    <tr>\n",
       "      <th>0</th>\n",
       "      <td>0.0</td>\n",
       "      <td>0</td>\n",
       "      <td>360000.0</td>\n",
       "      <td>1125000.0</td>\n",
       "      <td>33025.5</td>\n",
       "      <td>1125000.0</td>\n",
       "      <td>0.022800</td>\n",
       "      <td>51.863107</td>\n",
       "      <td>20.175222</td>\n",
       "      <td>6.442163</td>\n",
       "      <td>...</td>\n",
       "      <td>0</td>\n",
       "      <td>0</td>\n",
       "      <td>0</td>\n",
       "      <td>0</td>\n",
       "      <td>0</td>\n",
       "      <td>0</td>\n",
       "      <td>1</td>\n",
       "      <td>0</td>\n",
       "      <td>0</td>\n",
       "      <td>1</td>\n",
       "    </tr>\n",
       "    <tr>\n",
       "      <th>1</th>\n",
       "      <td>0.0</td>\n",
       "      <td>0</td>\n",
       "      <td>112500.0</td>\n",
       "      <td>251280.0</td>\n",
       "      <td>13630.5</td>\n",
       "      <td>180000.0</td>\n",
       "      <td>0.022625</td>\n",
       "      <td>38.039699</td>\n",
       "      <td>3.813826</td>\n",
       "      <td>15.600274</td>\n",
       "      <td>...</td>\n",
       "      <td>0</td>\n",
       "      <td>0</td>\n",
       "      <td>0</td>\n",
       "      <td>0</td>\n",
       "      <td>0</td>\n",
       "      <td>0</td>\n",
       "      <td>1</td>\n",
       "      <td>0</td>\n",
       "      <td>0</td>\n",
       "      <td>1</td>\n",
       "    </tr>\n",
       "    <tr>\n",
       "      <th>2</th>\n",
       "      <td>0.0</td>\n",
       "      <td>0</td>\n",
       "      <td>225000.0</td>\n",
       "      <td>544491.0</td>\n",
       "      <td>15916.5</td>\n",
       "      <td>454500.0</td>\n",
       "      <td>0.035792</td>\n",
       "      <td>54.266940</td>\n",
       "      <td>5.681040</td>\n",
       "      <td>5.806982</td>\n",
       "      <td>...</td>\n",
       "      <td>0</td>\n",
       "      <td>0</td>\n",
       "      <td>0</td>\n",
       "      <td>1</td>\n",
       "      <td>0</td>\n",
       "      <td>0</td>\n",
       "      <td>0</td>\n",
       "      <td>1</td>\n",
       "      <td>0</td>\n",
       "      <td>0</td>\n",
       "    </tr>\n",
       "    <tr>\n",
       "      <th>3</th>\n",
       "      <td>0.0</td>\n",
       "      <td>2</td>\n",
       "      <td>211500.0</td>\n",
       "      <td>900000.0</td>\n",
       "      <td>26316.0</td>\n",
       "      <td>900000.0</td>\n",
       "      <td>0.006207</td>\n",
       "      <td>35.685147</td>\n",
       "      <td>6.036961</td>\n",
       "      <td>3.266256</td>\n",
       "      <td>...</td>\n",
       "      <td>0</td>\n",
       "      <td>0</td>\n",
       "      <td>0</td>\n",
       "      <td>0</td>\n",
       "      <td>0</td>\n",
       "      <td>0</td>\n",
       "      <td>1</td>\n",
       "      <td>0</td>\n",
       "      <td>0</td>\n",
       "      <td>1</td>\n",
       "    </tr>\n",
       "    <tr>\n",
       "      <th>4</th>\n",
       "      <td>1.0</td>\n",
       "      <td>0</td>\n",
       "      <td>90000.0</td>\n",
       "      <td>113760.0</td>\n",
       "      <td>8406.0</td>\n",
       "      <td>90000.0</td>\n",
       "      <td>0.020713</td>\n",
       "      <td>50.357290</td>\n",
       "      <td>4.637919</td>\n",
       "      <td>22.666667</td>\n",
       "      <td>...</td>\n",
       "      <td>0</td>\n",
       "      <td>0</td>\n",
       "      <td>0</td>\n",
       "      <td>1</td>\n",
       "      <td>0</td>\n",
       "      <td>0</td>\n",
       "      <td>0</td>\n",
       "      <td>1</td>\n",
       "      <td>0</td>\n",
       "      <td>0</td>\n",
       "    </tr>\n",
       "    <tr>\n",
       "      <th>...</th>\n",
       "      <td>...</td>\n",
       "      <td>...</td>\n",
       "      <td>...</td>\n",
       "      <td>...</td>\n",
       "      <td>...</td>\n",
       "      <td>...</td>\n",
       "      <td>...</td>\n",
       "      <td>...</td>\n",
       "      <td>...</td>\n",
       "      <td>...</td>\n",
       "      <td>...</td>\n",
       "      <td>...</td>\n",
       "      <td>...</td>\n",
       "      <td>...</td>\n",
       "      <td>...</td>\n",
       "      <td>...</td>\n",
       "      <td>...</td>\n",
       "      <td>...</td>\n",
       "      <td>...</td>\n",
       "      <td>...</td>\n",
       "      <td>...</td>\n",
       "    </tr>\n",
       "    <tr>\n",
       "      <th>307506</th>\n",
       "      <td>NaN</td>\n",
       "      <td>1</td>\n",
       "      <td>202500.0</td>\n",
       "      <td>835380.0</td>\n",
       "      <td>40320.0</td>\n",
       "      <td>675000.0</td>\n",
       "      <td>0.035792</td>\n",
       "      <td>35.800137</td>\n",
       "      <td>5.081451</td>\n",
       "      <td>18.880219</td>\n",
       "      <td>...</td>\n",
       "      <td>0</td>\n",
       "      <td>0</td>\n",
       "      <td>0</td>\n",
       "      <td>0</td>\n",
       "      <td>0</td>\n",
       "      <td>0</td>\n",
       "      <td>1</td>\n",
       "      <td>0</td>\n",
       "      <td>0</td>\n",
       "      <td>1</td>\n",
       "    </tr>\n",
       "    <tr>\n",
       "      <th>307507</th>\n",
       "      <td>NaN</td>\n",
       "      <td>0</td>\n",
       "      <td>450000.0</td>\n",
       "      <td>1800000.0</td>\n",
       "      <td>56520.0</td>\n",
       "      <td>1800000.0</td>\n",
       "      <td>0.002506</td>\n",
       "      <td>40.002738</td>\n",
       "      <td>20.101300</td>\n",
       "      <td>23.671458</td>\n",
       "      <td>...</td>\n",
       "      <td>0</td>\n",
       "      <td>0</td>\n",
       "      <td>0</td>\n",
       "      <td>0</td>\n",
       "      <td>0</td>\n",
       "      <td>0</td>\n",
       "      <td>0</td>\n",
       "      <td>1</td>\n",
       "      <td>0</td>\n",
       "      <td>0</td>\n",
       "    </tr>\n",
       "    <tr>\n",
       "      <th>307508</th>\n",
       "      <td>NaN</td>\n",
       "      <td>1</td>\n",
       "      <td>112500.0</td>\n",
       "      <td>301095.0</td>\n",
       "      <td>23773.5</td>\n",
       "      <td>279000.0</td>\n",
       "      <td>0.019101</td>\n",
       "      <td>42.737851</td>\n",
       "      <td>5.932923</td>\n",
       "      <td>0.325804</td>\n",
       "      <td>...</td>\n",
       "      <td>0</td>\n",
       "      <td>0</td>\n",
       "      <td>0</td>\n",
       "      <td>0</td>\n",
       "      <td>0</td>\n",
       "      <td>0</td>\n",
       "      <td>1</td>\n",
       "      <td>0</td>\n",
       "      <td>0</td>\n",
       "      <td>1</td>\n",
       "    </tr>\n",
       "    <tr>\n",
       "      <th>307509</th>\n",
       "      <td>NaN</td>\n",
       "      <td>0</td>\n",
       "      <td>94500.0</td>\n",
       "      <td>180000.0</td>\n",
       "      <td>9000.0</td>\n",
       "      <td>180000.0</td>\n",
       "      <td>0.011703</td>\n",
       "      <td>22.450376</td>\n",
       "      <td>1.686516</td>\n",
       "      <td>22.439425</td>\n",
       "      <td>...</td>\n",
       "      <td>0</td>\n",
       "      <td>0</td>\n",
       "      <td>0</td>\n",
       "      <td>0</td>\n",
       "      <td>1</td>\n",
       "      <td>0</td>\n",
       "      <td>0</td>\n",
       "      <td>1</td>\n",
       "      <td>0</td>\n",
       "      <td>0</td>\n",
       "    </tr>\n",
       "    <tr>\n",
       "      <th>307510</th>\n",
       "      <td>NaN</td>\n",
       "      <td>0</td>\n",
       "      <td>99000.0</td>\n",
       "      <td>675000.0</td>\n",
       "      <td>21775.5</td>\n",
       "      <td>675000.0</td>\n",
       "      <td>0.010500</td>\n",
       "      <td>57.201916</td>\n",
       "      <td>NaN</td>\n",
       "      <td>7.274470</td>\n",
       "      <td>...</td>\n",
       "      <td>0</td>\n",
       "      <td>0</td>\n",
       "      <td>0</td>\n",
       "      <td>0</td>\n",
       "      <td>0</td>\n",
       "      <td>0</td>\n",
       "      <td>1</td>\n",
       "      <td>0</td>\n",
       "      <td>0</td>\n",
       "      <td>1</td>\n",
       "    </tr>\n",
       "  </tbody>\n",
       "</table>\n",
       "<p>307511 rows × 554 columns</p>\n",
       "</div>"
      ],
      "text/plain": [
       "        TARGET  CNT_CHILDREN  AMT_INCOME_TOTAL  AMT_CREDIT_x  AMT_ANNUITY_x  \\\n",
       "0          0.0             0          360000.0     1125000.0        33025.5   \n",
       "1          0.0             0          112500.0      251280.0        13630.5   \n",
       "2          0.0             0          225000.0      544491.0        15916.5   \n",
       "3          0.0             2          211500.0      900000.0        26316.0   \n",
       "4          1.0             0           90000.0      113760.0         8406.0   \n",
       "...        ...           ...               ...           ...            ...   \n",
       "307506     NaN             1          202500.0      835380.0        40320.0   \n",
       "307507     NaN             0          450000.0     1800000.0        56520.0   \n",
       "307508     NaN             1          112500.0      301095.0        23773.5   \n",
       "307509     NaN             0           94500.0      180000.0         9000.0   \n",
       "307510     NaN             0           99000.0      675000.0        21775.5   \n",
       "\n",
       "        AMT_GOODS_PRICE_x  REGION_POPULATION_RELATIVE  DAYS_BIRTH  \\\n",
       "0               1125000.0                    0.022800   51.863107   \n",
       "1                180000.0                    0.022625   38.039699   \n",
       "2                454500.0                    0.035792   54.266940   \n",
       "3                900000.0                    0.006207   35.685147   \n",
       "4                 90000.0                    0.020713   50.357290   \n",
       "...                   ...                         ...         ...   \n",
       "307506           675000.0                    0.035792   35.800137   \n",
       "307507          1800000.0                    0.002506   40.002738   \n",
       "307508           279000.0                    0.019101   42.737851   \n",
       "307509           180000.0                    0.011703   22.450376   \n",
       "307510           675000.0                    0.010500   57.201916   \n",
       "\n",
       "        DAYS_EMPLOYED  DAYS_REGISTRATION  ...  WALLSMATERIAL_MODE_Mixed  \\\n",
       "0           20.175222           6.442163  ...                         0   \n",
       "1            3.813826          15.600274  ...                         0   \n",
       "2            5.681040           5.806982  ...                         0   \n",
       "3            6.036961           3.266256  ...                         0   \n",
       "4            4.637919          22.666667  ...                         0   \n",
       "...               ...                ...  ...                       ...   \n",
       "307506       5.081451          18.880219  ...                         0   \n",
       "307507      20.101300          23.671458  ...                         0   \n",
       "307508       5.932923           0.325804  ...                         0   \n",
       "307509       1.686516          22.439425  ...                         0   \n",
       "307510            NaN           7.274470  ...                         0   \n",
       "\n",
       "        WALLSMATERIAL_MODE_Monolithic  WALLSMATERIAL_MODE_Others  \\\n",
       "0                                   0                          0   \n",
       "1                                   0                          0   \n",
       "2                                   0                          0   \n",
       "3                                   0                          0   \n",
       "4                                   0                          0   \n",
       "...                               ...                        ...   \n",
       "307506                              0                          0   \n",
       "307507                              0                          0   \n",
       "307508                              0                          0   \n",
       "307509                              0                          0   \n",
       "307510                              0                          0   \n",
       "\n",
       "        WALLSMATERIAL_MODE_Panel  WALLSMATERIAL_MODE_Stonebrick  \\\n",
       "0                              0                              0   \n",
       "1                              0                              0   \n",
       "2                              1                              0   \n",
       "3                              0                              0   \n",
       "4                              1                              0   \n",
       "...                          ...                            ...   \n",
       "307506                         0                              0   \n",
       "307507                         0                              0   \n",
       "307508                         0                              0   \n",
       "307509                         0                              1   \n",
       "307510                         0                              0   \n",
       "\n",
       "        WALLSMATERIAL_MODE_Wooden  WALLSMATERIAL_MODE_nan  \\\n",
       "0                               0                       1   \n",
       "1                               0                       1   \n",
       "2                               0                       0   \n",
       "3                               0                       1   \n",
       "4                               0                       0   \n",
       "...                           ...                     ...   \n",
       "307506                          0                       1   \n",
       "307507                          0                       0   \n",
       "307508                          0                       1   \n",
       "307509                          0                       0   \n",
       "307510                          0                       1   \n",
       "\n",
       "        EMERGENCYSTATE_MODE_No  EMERGENCYSTATE_MODE_Yes  \\\n",
       "0                            0                        0   \n",
       "1                            0                        0   \n",
       "2                            1                        0   \n",
       "3                            0                        0   \n",
       "4                            1                        0   \n",
       "...                        ...                      ...   \n",
       "307506                       0                        0   \n",
       "307507                       1                        0   \n",
       "307508                       0                        0   \n",
       "307509                       1                        0   \n",
       "307510                       0                        0   \n",
       "\n",
       "        EMERGENCYSTATE_MODE_nan  \n",
       "0                             1  \n",
       "1                             1  \n",
       "2                             0  \n",
       "3                             1  \n",
       "4                             0  \n",
       "...                         ...  \n",
       "307506                        1  \n",
       "307507                        0  \n",
       "307508                        1  \n",
       "307509                        0  \n",
       "307510                        1  \n",
       "\n",
       "[307511 rows x 554 columns]"
      ]
     },
     "execution_count": 37,
     "metadata": {},
     "output_type": "execute_result"
    }
   ],
   "source": [
    "DF_1"
   ]
  },
  {
   "cell_type": "code",
   "execution_count": 38,
   "metadata": {
    "execution": {
     "iopub.execute_input": "2020-12-20T17:14:24.083958Z",
     "iopub.status.busy": "2020-12-20T17:14:24.083200Z",
     "iopub.status.idle": "2020-12-20T17:17:22.770438Z",
     "shell.execute_reply": "2020-12-20T17:17:22.769158Z"
    },
    "papermill": {
     "duration": 178.743132,
     "end_time": "2020-12-20T17:17:22.770822",
     "exception": false,
     "start_time": "2020-12-20T17:14:24.027690",
     "status": "completed"
    },
    "tags": []
   },
   "outputs": [],
   "source": [
    "DF_1.to_csv('df.csv',index=False)"
   ]
  },
  {
   "cell_type": "code",
   "execution_count": null,
   "metadata": {
    "papermill": {
     "duration": 0.051559,
     "end_time": "2020-12-20T17:17:22.878828",
     "exception": false,
     "start_time": "2020-12-20T17:17:22.827269",
     "status": "completed"
    },
    "tags": []
   },
   "outputs": [],
   "source": []
  }
 ],
 "metadata": {
  "kernelspec": {
   "display_name": "Python 3",
   "language": "python",
   "name": "python3"
  },
  "language_info": {
   "codemirror_mode": {
    "name": "ipython",
    "version": 3
   },
   "file_extension": ".py",
   "mimetype": "text/x-python",
   "name": "python",
   "nbconvert_exporter": "python",
   "pygments_lexer": "ipython3",
   "version": "3.7.6"
  },
  "papermill": {
   "duration": 787.100881,
   "end_time": "2020-12-20T17:17:23.041848",
   "environment_variables": {},
   "exception": null,
   "input_path": "__notebook__.ipynb",
   "output_path": "__notebook__.ipynb",
   "parameters": {},
   "start_time": "2020-12-20T17:04:15.940967",
   "version": "2.1.0"
  }
 },
 "nbformat": 4,
 "nbformat_minor": 4
}
