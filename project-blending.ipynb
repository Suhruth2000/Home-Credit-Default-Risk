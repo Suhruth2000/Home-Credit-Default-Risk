{
 "cells": [
  {
   "cell_type": "code",
   "execution_count": 1,
   "metadata": {
    "_cell_guid": "b1076dfc-b9ad-4769-8c92-a6c4dae69d19",
    "_uuid": "8f2839f25d086af736a60e9eeb907d3b93b6e0e5",
    "execution": {
     "iopub.execute_input": "2020-12-20T17:58:27.811094Z",
     "iopub.status.busy": "2020-12-20T17:58:27.810411Z",
     "iopub.status.idle": "2020-12-20T17:58:27.812543Z",
     "shell.execute_reply": "2020-12-20T17:58:27.813067Z"
    },
    "papermill": {
     "duration": 0.014703,
     "end_time": "2020-12-20T17:58:27.813266",
     "exception": false,
     "start_time": "2020-12-20T17:58:27.798563",
     "status": "completed"
    },
    "tags": []
   },
   "outputs": [],
   "source": [
    "import numpy as np \n",
    "import pandas as pd"
   ]
  },
  {
   "cell_type": "code",
   "execution_count": 2,
   "metadata": {
    "_cell_guid": "79c7e3d0-c299-4dcb-8224-4455121ee9b0",
    "_uuid": "d629ff2d2480ee46fbb7e2d37f6b5fab8052498a",
    "execution": {
     "iopub.execute_input": "2020-12-20T17:58:27.829153Z",
     "iopub.status.busy": "2020-12-20T17:58:27.828364Z",
     "iopub.status.idle": "2020-12-20T17:58:28.133399Z",
     "shell.execute_reply": "2020-12-20T17:58:28.132760Z"
    },
    "papermill": {
     "duration": 0.313802,
     "end_time": "2020-12-20T17:58:28.133537",
     "exception": false,
     "start_time": "2020-12-20T17:58:27.819735",
     "status": "completed"
    },
    "tags": []
   },
   "outputs": [],
   "source": [
    "#LGBM\n",
    "F1 = pd.read_csv('../input/projectdf/submission(12).csv',sep=',',low_memory=False)\n",
    "#XGB\n",
    "F2 = pd.read_csv('../input/projectdf/submission(14).csv',sep=',',low_memory=False)\n",
    "#lightgbm 12"
   ]
  },
  {
   "cell_type": "code",
   "execution_count": 3,
   "metadata": {
    "execution": {
     "iopub.execute_input": "2020-12-20T17:58:28.160952Z",
     "iopub.status.busy": "2020-12-20T17:58:28.159891Z",
     "iopub.status.idle": "2020-12-20T17:58:28.211369Z",
     "shell.execute_reply": "2020-12-20T17:58:28.210795Z"
    },
    "papermill": {
     "duration": 0.071725,
     "end_time": "2020-12-20T17:58:28.211554",
     "exception": false,
     "start_time": "2020-12-20T17:58:28.139829",
     "status": "completed"
    },
    "tags": []
   },
   "outputs": [],
   "source": [
    "F3 = pd.DataFrame()\n",
    "F3['SK_ID_CURR'] = F1['SK_ID_CURR']\n",
    "F3['TARGET'] = 0.75*F1['TARGET'] + 0.25*F2['TARGET']"
   ]
  },
  {
   "cell_type": "code",
   "execution_count": 4,
   "metadata": {
    "execution": {
     "iopub.execute_input": "2020-12-20T17:58:28.229911Z",
     "iopub.status.busy": "2020-12-20T17:58:28.228728Z",
     "iopub.status.idle": "2020-12-20T17:58:29.065506Z",
     "shell.execute_reply": "2020-12-20T17:58:29.064606Z"
    },
    "papermill": {
     "duration": 0.847575,
     "end_time": "2020-12-20T17:58:29.065630",
     "exception": false,
     "start_time": "2020-12-20T17:58:28.218055",
     "status": "completed"
    },
    "tags": []
   },
   "outputs": [],
   "source": [
    "F3.to_csv('submission.csv',index=False)"
   ]
  },
  {
   "cell_type": "code",
   "execution_count": 5,
   "metadata": {
    "execution": {
     "iopub.execute_input": "2020-12-20T17:58:29.093190Z",
     "iopub.status.busy": "2020-12-20T17:58:29.091922Z",
     "iopub.status.idle": "2020-12-20T17:58:29.116829Z",
     "shell.execute_reply": "2020-12-20T17:58:29.116159Z"
    },
    "papermill": {
     "duration": 0.044121,
     "end_time": "2020-12-20T17:58:29.116940",
     "exception": false,
     "start_time": "2020-12-20T17:58:29.072819",
     "status": "completed"
    },
    "tags": []
   },
   "outputs": [
    {
     "data": {
      "text/html": [
       "<div>\n",
       "<style scoped>\n",
       "    .dataframe tbody tr th:only-of-type {\n",
       "        vertical-align: middle;\n",
       "    }\n",
       "\n",
       "    .dataframe tbody tr th {\n",
       "        vertical-align: top;\n",
       "    }\n",
       "\n",
       "    .dataframe thead th {\n",
       "        text-align: right;\n",
       "    }\n",
       "</style>\n",
       "<table border=\"1\" class=\"dataframe\">\n",
       "  <thead>\n",
       "    <tr style=\"text-align: right;\">\n",
       "      <th></th>\n",
       "      <th>TARGET</th>\n",
       "    </tr>\n",
       "  </thead>\n",
       "  <tbody>\n",
       "    <tr>\n",
       "      <th>count</th>\n",
       "      <td>107629.000000</td>\n",
       "    </tr>\n",
       "    <tr>\n",
       "      <th>mean</th>\n",
       "      <td>0.080513</td>\n",
       "    </tr>\n",
       "    <tr>\n",
       "      <th>std</th>\n",
       "      <td>0.089603</td>\n",
       "    </tr>\n",
       "    <tr>\n",
       "      <th>min</th>\n",
       "      <td>0.001561</td>\n",
       "    </tr>\n",
       "    <tr>\n",
       "      <th>25%</th>\n",
       "      <td>0.025454</td>\n",
       "    </tr>\n",
       "    <tr>\n",
       "      <th>50%</th>\n",
       "      <td>0.048691</td>\n",
       "    </tr>\n",
       "    <tr>\n",
       "      <th>75%</th>\n",
       "      <td>0.098594</td>\n",
       "    </tr>\n",
       "    <tr>\n",
       "      <th>max</th>\n",
       "      <td>0.878409</td>\n",
       "    </tr>\n",
       "  </tbody>\n",
       "</table>\n",
       "</div>"
      ],
      "text/plain": [
       "              TARGET\n",
       "count  107629.000000\n",
       "mean        0.080513\n",
       "std         0.089603\n",
       "min         0.001561\n",
       "25%         0.025454\n",
       "50%         0.048691\n",
       "75%         0.098594\n",
       "max         0.878409"
      ]
     },
     "execution_count": 5,
     "metadata": {},
     "output_type": "execute_result"
    }
   ],
   "source": [
    "F3.describe()"
   ]
  },
  {
   "cell_type": "code",
   "execution_count": 6,
   "metadata": {
    "execution": {
     "iopub.execute_input": "2020-12-20T17:58:29.140144Z",
     "iopub.status.busy": "2020-12-20T17:58:29.138964Z",
     "iopub.status.idle": "2020-12-20T17:58:29.157451Z",
     "shell.execute_reply": "2020-12-20T17:58:29.156836Z"
    },
    "papermill": {
     "duration": 0.032945,
     "end_time": "2020-12-20T17:58:29.157607",
     "exception": false,
     "start_time": "2020-12-20T17:58:29.124662",
     "status": "completed"
    },
    "tags": []
   },
   "outputs": [
    {
     "data": {
      "text/html": [
       "<div>\n",
       "<style scoped>\n",
       "    .dataframe tbody tr th:only-of-type {\n",
       "        vertical-align: middle;\n",
       "    }\n",
       "\n",
       "    .dataframe tbody tr th {\n",
       "        vertical-align: top;\n",
       "    }\n",
       "\n",
       "    .dataframe thead th {\n",
       "        text-align: right;\n",
       "    }\n",
       "</style>\n",
       "<table border=\"1\" class=\"dataframe\">\n",
       "  <thead>\n",
       "    <tr style=\"text-align: right;\">\n",
       "      <th></th>\n",
       "      <th>TARGET</th>\n",
       "    </tr>\n",
       "  </thead>\n",
       "  <tbody>\n",
       "    <tr>\n",
       "      <th>count</th>\n",
       "      <td>107629.000000</td>\n",
       "    </tr>\n",
       "    <tr>\n",
       "      <th>mean</th>\n",
       "      <td>0.081100</td>\n",
       "    </tr>\n",
       "    <tr>\n",
       "      <th>std</th>\n",
       "      <td>0.089846</td>\n",
       "    </tr>\n",
       "    <tr>\n",
       "      <th>min</th>\n",
       "      <td>0.001729</td>\n",
       "    </tr>\n",
       "    <tr>\n",
       "      <th>25%</th>\n",
       "      <td>0.025815</td>\n",
       "    </tr>\n",
       "    <tr>\n",
       "      <th>50%</th>\n",
       "      <td>0.049138</td>\n",
       "    </tr>\n",
       "    <tr>\n",
       "      <th>75%</th>\n",
       "      <td>0.099232</td>\n",
       "    </tr>\n",
       "    <tr>\n",
       "      <th>max</th>\n",
       "      <td>0.874513</td>\n",
       "    </tr>\n",
       "  </tbody>\n",
       "</table>\n",
       "</div>"
      ],
      "text/plain": [
       "              TARGET\n",
       "count  107629.000000\n",
       "mean        0.081100\n",
       "std         0.089846\n",
       "min         0.001729\n",
       "25%         0.025815\n",
       "50%         0.049138\n",
       "75%         0.099232\n",
       "max         0.874513"
      ]
     },
     "execution_count": 6,
     "metadata": {},
     "output_type": "execute_result"
    }
   ],
   "source": [
    "F1.describe()"
   ]
  },
  {
   "cell_type": "code",
   "execution_count": null,
   "metadata": {
    "papermill": {
     "duration": 0.008438,
     "end_time": "2020-12-20T17:58:29.174617",
     "exception": false,
     "start_time": "2020-12-20T17:58:29.166179",
     "status": "completed"
    },
    "tags": []
   },
   "outputs": [],
   "source": []
  }
 ],
 "metadata": {
  "kernelspec": {
   "display_name": "Python 3",
   "language": "python",
   "name": "python3"
  },
  "language_info": {
   "codemirror_mode": {
    "name": "ipython",
    "version": 3
   },
   "file_extension": ".py",
   "mimetype": "text/x-python",
   "name": "python",
   "nbconvert_exporter": "python",
   "pygments_lexer": "ipython3",
   "version": "3.7.6"
  },
  "papermill": {
   "duration": 7.002355,
   "end_time": "2020-12-20T17:58:29.291778",
   "environment_variables": {},
   "exception": null,
   "input_path": "__notebook__.ipynb",
   "output_path": "__notebook__.ipynb",
   "parameters": {},
   "start_time": "2020-12-20T17:58:22.289423",
   "version": "2.1.0"
  }
 },
 "nbformat": 4,
 "nbformat_minor": 4
}
